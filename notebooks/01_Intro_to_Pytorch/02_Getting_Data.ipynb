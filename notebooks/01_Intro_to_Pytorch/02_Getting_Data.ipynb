{
 "cells": [
  {
   "cell_type": "markdown",
   "id": "041d07e7",
   "metadata": {},
   "source": [
    "## Setup"
   ]
  },
  {
   "cell_type": "markdown",
   "id": "b1c8d96e",
   "metadata": {},
   "source": [
    "### Import Libraries"
   ]
  },
  {
   "cell_type": "code",
   "execution_count": null,
   "id": "6d8e23b8",
   "metadata": {},
   "outputs": [],
   "source": [
    "import torch\n",
    "from torchvision import datasets\n",
    "from torch.utils.data import DataLoader\n",
    "from torchvision.transforms import Compose, Grayscale, ToTensor\n",
    "\n",
    "import random\n",
    "import matplotlib.pyplot as plt\n",
    "import numpy as np"
   ]
  },
  {
   "cell_type": "markdown",
   "id": "86313229",
   "metadata": {},
   "source": [
    "The torchvision package provides easy access to many publicly available datasets.\n",
    "\n",
    "#### Load the MNIST dataset."
   ]
  },
  {
   "cell_type": "code",
   "execution_count": 35,
   "id": "f91b0650",
   "metadata": {},
   "outputs": [],
   "source": [
    "MNIST_data = datasets.MNIST(\n",
    "    root=\"data/raw\",\n",
    "    download=True,\n",
    ")"
   ]
  },
  {
   "cell_type": "markdown",
   "id": "7df26c06",
   "metadata": {},
   "source": [
    "Get and plot an example image from the dataset"
   ]
  },
  {
   "cell_type": "code",
   "execution_count": 36,
   "id": "9df888f3",
   "metadata": {},
   "outputs": [],
   "source": [
    "random.seed(2025)\n",
    "image, label = MNIST_data[random.randint(0, len(MNIST_data))]"
   ]
  },
  {
   "cell_type": "code",
   "execution_count": 37,
   "id": "ae9b4d57",
   "metadata": {},
   "outputs": [
    {
     "data": {
      "text/plain": [
       "<matplotlib.image.AxesImage at 0x1e860f2b410>"
      ]
     },
     "execution_count": 37,
     "metadata": {},
     "output_type": "execute_result"
    },
    {
     "data": {
      "image/png": "[encoded data removed]",
      "text/plain": [
       "<Figure size 640x480 with 1 Axes>"
      ]
     },
     "metadata": {},
     "output_type": "display_data"
    }
   ],
   "source": [
    "plt.imshow(image, cmap = 'gray')"
   ]
  },
  {
   "cell_type": "markdown",
   "id": "954c03ad",
   "metadata": {},
   "source": [
    "#### Load the CIFAR10 dataset"
   ]
  },
  {
   "cell_type": "code",
   "execution_count": 18,
   "id": "8ce89a66",
   "metadata": {},
   "outputs": [
    {
     "name": "stderr",
     "output_type": "stream",
     "text": [
      "100%|██████████| 170M/170M [01:35<00:00, 1.79MB/s] \n"
     ]
    }
   ],
   "source": [
    "cifar10_data = datasets.CIFAR10(\n",
    "    root=\"data/raw\",\n",
    "    download=True,\n",
    "    transform=ToTensor()\n",
    ")"
   ]
  },
  {
   "cell_type": "code",
   "execution_count": 28,
   "id": "4bc05f3b",
   "metadata": {},
   "outputs": [],
   "source": [
    "image, label = cifar10_data[random.randint(0,len(cifar10_data))]"
   ]
  },
  {
   "cell_type": "markdown",
   "id": "bbd8a573",
   "metadata": {},
   "source": [
    "Since CIFAR contains color images, you need to permute the dimensions of the tensor with the image data to be able to plot them using matplotlib's imshow. That's because imshow expects the image to have a different format: H x W x C (height x width x color) rather than C x H x W. There's a function `permute` in torch that we can use to swap the order of the dimensions."
   ]
  },
  {
   "cell_type": "code",
   "execution_count": 34,
   "id": "fc59b9c2",
   "metadata": {},
   "outputs": [
    {
     "name": "stdout",
     "output_type": "stream",
     "text": [
      "torch.Size([2, 3, 5])\n",
      "torch.Size([3, 2, 5])\n"
     ]
    }
   ],
   "source": [
    "input_var = torch.randn(size=(2,3,5))\n",
    "\n",
    "print(input_var.size())\n",
    "\n",
    "input_var = input_var.permute(1,0,2)\n",
    "print(input_var.size())"
   ]
  },
  {
   "cell_type": "code",
   "execution_count": 33,
   "id": "f60afb8a",
   "metadata": {},
   "outputs": [
    {
     "name": "stdout",
     "output_type": "stream",
     "text": [
      "torch.Size([3, 32, 32])\n",
      "torch.Size([32, 32, 3])\n"
     ]
    }
   ],
   "source": [
    "print(image.shape)\n",
    "\n",
    "permuted_image = image.permute(1,2,0)\n",
    "print(permuted_image.shape)"
   ]
  },
  {
   "cell_type": "code",
   "execution_count": 32,
   "id": "64f3e2de",
   "metadata": {},
   "outputs": [
    {
     "data": {
      "text/plain": [
       "<matplotlib.image.AxesImage at 0x1e860792b10>"
      ]
     },
     "execution_count": 32,
     "metadata": {},
     "output_type": "execute_result"
    },
    {
     "data": {
      "image/png": "[encoded data removed]",
      "text/plain": [
       "<Figure size 640x480 with 1 Axes>"
      ]
     },
     "metadata": {},
     "output_type": "display_data"
    }
   ],
   "source": [
    "plt.imshow(image.permute(1,2,0))"
   ]
  },
  {
   "cell_type": "markdown",
   "id": "20ce59aa",
   "metadata": {},
   "source": [
    "### Splitting into train and test datasets\n",
    "\n",
    "By setting a parameter `train` to True or False, respectively, we can split the dataset into training and test data."
   ]
  },
  {
   "cell_type": "code",
   "execution_count": 38,
   "id": "cafa36c5",
   "metadata": {},
   "outputs": [],
   "source": [
    "training_data = datasets.CIFAR10(\n",
    "    root=\"data/raw\",\n",
    "    train=True,\n",
    "    download=True,\n",
    "    transform=ToTensor()\n",
    ")\n",
    "\n",
    "test_data = datasets.CIFAR10(\n",
    "    root=\"data/raw\", \n",
    "    train=False,\n",
    "    download=True,\n",
    "    transform=ToTensor()\n",
    ")"
   ]
  },
  {
   "cell_type": "markdown",
   "id": "47ca14fe",
   "metadata": {},
   "source": [
    "#### Data Augmentation - Transformations"
   ]
  },
  {
   "cell_type": "markdown",
   "id": "832484db",
   "metadata": {},
   "source": [
    "Dataloaders are wrappers around the Dataset that splits it into minibatches (which is necessary for stochastic gradient descent). It also makes the data iterable."
   ]
  },
  {
   "cell_type": "code",
   "execution_count": 41,
   "id": "da2142c9",
   "metadata": {},
   "outputs": [],
   "source": [
    "train_dataloader = DataLoader(training_data, batch_size=64, shuffle=True)\n",
    "test_dataloader = DataLoader(test_data, batch_size=64, shuffle=True)"
   ]
  },
  {
   "cell_type": "markdown",
   "id": "ee0795c6",
   "metadata": {},
   "source": [
    "The code below iterates through batches for each run."
   ]
  },
  {
   "cell_type": "code",
   "execution_count": 44,
   "id": "5ab2af86",
   "metadata": {},
   "outputs": [
    {
     "name": "stdout",
     "output_type": "stream",
     "text": [
      "Batch size: torch.Size([64, 3, 32, 32])\n"
     ]
    },
    {
     "data": {
      "text/plain": [
       "<matplotlib.image.AxesImage at 0x1e86078f4a0>"
      ]
     },
     "execution_count": 44,
     "metadata": {},
     "output_type": "execute_result"
    },
    {
     "data": {
      "image/png": "[encoded data removed]",
      "text/plain": [
       "<Figure size 640x480 with 1 Axes>"
      ]
     },
     "metadata": {},
     "output_type": "display_data"
    }
   ],
   "source": [
    "# iter makes the batches iterable and with next we query the next batch\n",
    "batch_images, batch_labels = next(iter(train_dataloader))\n",
    "print('Batch size:', batch_images.shape)\n",
    "\n",
    "plt.imshow(batch_images[0].permute(1,2,0))"
   ]
  },
  {
   "cell_type": "markdown",
   "id": "b15d506d",
   "metadata": {},
   "source": [
    "Leftover code which is supposed to ensure reproducibility (but variables not defined in tutorial)."
   ]
  },
  {
   "cell_type": "code",
   "execution_count": null,
   "id": "432e5c07",
   "metadata": {},
   "outputs": [],
   "source": [
    "def seed_worker(worker_id):\n",
    "    worker_seed = torch.initial_seed() % 2**32\n",
    "    np.random.seed(worker_seed)\n",
    "    random.seed(worker_seed)\n",
    "\n",
    "g_seed = torch.Generator()\n",
    "g_seed.manual_seed(my_seed)\n",
    "\n",
    "DataLoader(\n",
    "    train_dataset,\n",
    "    batch_size = batch_size,\n",
    "    num_workers=num_workers,\n",
    "    worker_init_fn=seed_worker,\n",
    "    generateor=g_seed\n",
    ")"
   ]
  }
 ],
 "metadata": {
  "kernelspec": {
   "display_name": "default",
   "language": "python",
   "name": "python3"
  },
  "language_info": {
   "codemirror_mode": {
    "name": "ipython",
    "version": 3
   },
   "file_extension": ".py",
   "mimetype": "text/x-python",
   "name": "python",
   "nbconvert_exporter": "python",
   "pygments_lexer": "ipython3",
   "version": "3.12.11"
  }
 },
 "nbformat": 4,
 "nbformat_minor": 5
}
