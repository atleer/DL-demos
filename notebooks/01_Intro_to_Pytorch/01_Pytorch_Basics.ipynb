{
 "cells": [
  {
   "cell_type": "markdown",
   "id": "737f8055",
   "metadata": {},
   "source": [
    "## Setup"
   ]
  },
  {
   "cell_type": "markdown",
   "id": "bda14a0b",
   "metadata": {},
   "source": [
    "### Import Libraries"
   ]
  },
  {
   "cell_type": "code",
   "execution_count": 1,
   "id": "2ca38b42",
   "metadata": {},
   "outputs": [],
   "source": [
    "import torch\n",
    "import numpy as np\n",
    "import pandas as pd\n",
    "import matplotlib.pyplot as plt"
   ]
  },
  {
   "cell_type": "markdown",
   "id": "2fe7bd9c",
   "metadata": {},
   "source": [
    "## Tensors in Pytorch"
   ]
  },
  {
   "cell_type": "markdown",
   "id": "d74cf611",
   "metadata": {},
   "source": [
    "Tensors are a generalized formulation to higher dimensions of mathematical objects that we are/may be familiar with from linear algebra: scalars, vectors, and matrices. A scalar is a 0D-tensor, a vector is a 1D-tensor, and a matrix is a 2D-tensor. Tensors can have any N number of dimensions.\n",
    "\n",
    "Tensors are more than just a container for data, though, they also include information about the linear transformations between tensors.\n",
    "\n",
    "Pytorch is a library that is used instead of NumPy when working with data in Deep Learning, but it's often used in the same way as NumPy. It's also optimized to utilize the power of GPUs.\n",
    "\n",
    "Tensors can be constructed from standard python data collections like lists, tuples, and arrays."
   ]
  },
  {
   "cell_type": "code",
   "execution_count": 2,
   "id": "5d8e1afa",
   "metadata": {},
   "outputs": [
    {
     "data": {
      "text/plain": [
       "tensor([0, 1, 2])"
      ]
     },
     "execution_count": 2,
     "metadata": {},
     "output_type": "execute_result"
    }
   ],
   "source": [
    "# tensor from a list\n",
    "a = torch.tensor([0,1,2])\n",
    "a"
   ]
  },
  {
   "cell_type": "code",
   "execution_count": 3,
   "id": "3196cde5",
   "metadata": {},
   "outputs": [
    {
     "data": {
      "text/plain": [
       "tensor([[1.0000, 1.1000],\n",
       "        [1.2000, 1.3000]])"
      ]
     },
     "execution_count": 3,
     "metadata": {},
     "output_type": "execute_result"
    }
   ],
   "source": [
    "# tensor from tuples\n",
    "b = ((1.0,1.1), (1.2, 1.3))\n",
    "b = torch.tensor(b)\n",
    "b"
   ]
  },
  {
   "cell_type": "code",
   "execution_count": 4,
   "id": "ed67bf50",
   "metadata": {},
   "outputs": [
    {
     "data": {
      "text/plain": [
       "tensor([[1., 1., 1.],\n",
       "        [1., 1., 1.]], dtype=torch.float64)"
      ]
     },
     "execution_count": 4,
     "metadata": {},
     "output_type": "execute_result"
    }
   ],
   "source": [
    "# tensor of from numpy array\n",
    "c = np.ones([2,3])\n",
    "c = torch.tensor(c)\n",
    "c"
   ]
  },
  {
   "cell_type": "markdown",
   "id": "c94e0676",
   "metadata": {},
   "source": [
    "Pytorch also provides functions to initialize arrays, like NumPy."
   ]
  },
  {
   "cell_type": "code",
   "execution_count": 5,
   "id": "79b0468f",
   "metadata": {},
   "outputs": [
    {
     "data": {
      "text/plain": [
       "tensor([1., 1., 1., 1., 1.])"
      ]
     },
     "execution_count": 5,
     "metadata": {},
     "output_type": "execute_result"
    }
   ],
   "source": [
    "a = torch.ones(5)\n",
    "a"
   ]
  },
  {
   "cell_type": "code",
   "execution_count": 6,
   "id": "49ca102d",
   "metadata": {},
   "outputs": [
    {
     "data": {
      "text/plain": [
       "tensor([0., 0., 0., 0.])"
      ]
     },
     "execution_count": 6,
     "metadata": {},
     "output_type": "execute_result"
    }
   ],
   "source": [
    "b = torch.zeros(4)\n",
    "b"
   ]
  },
  {
   "cell_type": "code",
   "execution_count": 15,
   "id": "13ab7e28",
   "metadata": {},
   "outputs": [
    {
     "data": {
      "text/plain": [
       "tensor([[0.7454, 0.1705],\n",
       "        [0.3637, 0.8468],\n",
       "        [0.1040, 0.1609],\n",
       "        [0.8851, 0.5557],\n",
       "        [0.7545, 0.7310]])"
      ]
     },
     "execution_count": 15,
     "metadata": {},
     "output_type": "execute_result"
    }
   ],
   "source": [
    "c = torch.rand(size = (5, 2))\n",
    "c"
   ]
  },
  {
   "cell_type": "code",
   "execution_count": 14,
   "id": "d1ac8b30",
   "metadata": {},
   "outputs": [
    {
     "data": {
      "text/plain": [
       "tensor([[-0.2849,  2.3816, -0.9405,  0.2406],\n",
       "        [-2.2642, -0.5441, -0.0320, -1.0287],\n",
       "        [-0.9932, -0.1222,  0.6081,  1.2346]])"
      ]
     },
     "execution_count": 14,
     "metadata": {},
     "output_type": "execute_result"
    }
   ],
   "source": [
    "d = torch.randn(size = (3,4))\n",
    "d"
   ]
  },
  {
   "cell_type": "markdown",
   "id": "3843e3f2",
   "metadata": {},
   "source": [
    "Set seed in torch"
   ]
  },
  {
   "cell_type": "code",
   "execution_count": 24,
   "id": "23a6708e",
   "metadata": {},
   "outputs": [
    {
     "data": {
      "text/plain": [
       "tensor([1.5410])"
      ]
     },
     "execution_count": 24,
     "metadata": {},
     "output_type": "execute_result"
    }
   ],
   "source": [
    "torch.manual_seed(0)\n",
    "\n",
    "# now we get the same number every time (as long as torch.manual_seed(0) has been run again)\n",
    "torch.randn(1)"
   ]
  },
  {
   "cell_type": "markdown",
   "id": "755e0d65",
   "metadata": {},
   "source": [
    "#### arange and linspace"
   ]
  },
  {
   "cell_type": "code",
   "execution_count": 26,
   "id": "83d44ebb",
   "metadata": {},
   "outputs": [
    {
     "data": {
      "text/plain": [
       "tensor([0, 1, 2, 3, 4, 5, 6, 7, 8, 9])"
      ]
     },
     "execution_count": 26,
     "metadata": {},
     "output_type": "execute_result"
    }
   ],
   "source": [
    "torch.arange(0,10,step=1)"
   ]
  },
  {
   "cell_type": "code",
   "execution_count": 27,
   "id": "b1929bc5",
   "metadata": {},
   "outputs": [
    {
     "data": {
      "text/plain": [
       "tensor([0.0000, 0.5000, 1.0000, 1.5000, 2.0000, 2.5000, 3.0000, 3.5000, 4.0000,\n",
       "        4.5000, 5.0000])"
      ]
     },
     "execution_count": 27,
     "metadata": {},
     "output_type": "execute_result"
    }
   ],
   "source": [
    "torch.linspace(0,5,steps=11)"
   ]
  },
  {
   "cell_type": "markdown",
   "id": "2c3726c1",
   "metadata": {},
   "source": [
    "### Tensor Operations\n",
    "\n",
    "Mathematical operations can be performed on tensors both using built-in python operators and methods in pytorch."
   ]
  },
  {
   "cell_type": "code",
   "execution_count": 42,
   "id": "4cab67f5",
   "metadata": {},
   "outputs": [
    {
     "data": {
      "text/plain": [
       "(tensor([1., 1., 1., 1., 1.]),\n",
       " tensor([0.1000, 0.1000, 0.1000, 0.1000, 0.1000]))"
      ]
     },
     "execution_count": 42,
     "metadata": {},
     "output_type": "execute_result"
    }
   ],
   "source": [
    "a = torch.ones(5)\n",
    "b = torch.zeros(5)+0.1\n",
    "\n",
    "a, b"
   ]
  },
  {
   "cell_type": "code",
   "execution_count": 43,
   "id": "0d9ada01",
   "metadata": {},
   "outputs": [
    {
     "data": {
      "text/plain": [
       "tensor([1.1000, 1.1000, 1.1000, 1.1000, 1.1000])"
      ]
     },
     "execution_count": 43,
     "metadata": {},
     "output_type": "execute_result"
    }
   ],
   "source": [
    "c = a+b\n",
    "c"
   ]
  },
  {
   "cell_type": "code",
   "execution_count": 44,
   "id": "099ce17f",
   "metadata": {},
   "outputs": [
    {
     "data": {
      "text/plain": [
       "tensor([1.1000, 1.1000, 1.1000, 1.1000, 1.1000])"
      ]
     },
     "execution_count": 44,
     "metadata": {},
     "output_type": "execute_result"
    }
   ],
   "source": [
    "# note that an out parameter can be used to create a variable that contains the result\n",
    "torch.add(a, b, out=c)\n",
    "c"
   ]
  },
  {
   "cell_type": "code",
   "execution_count": 45,
   "id": "247b8351",
   "metadata": {},
   "outputs": [
    {
     "data": {
      "text/plain": [
       "tensor([0.1000, 0.1000, 0.1000, 0.1000, 0.1000])"
      ]
     },
     "execution_count": 45,
     "metadata": {},
     "output_type": "execute_result"
    }
   ],
   "source": [
    "torch.multiply(a,b,out=d)\n",
    "d"
   ]
  },
  {
   "cell_type": "markdown",
   "id": "f6629da6",
   "metadata": {},
   "source": [
    "### Arithmetic operations"
   ]
  },
  {
   "cell_type": "code",
   "execution_count": 52,
   "id": "62c322c8",
   "metadata": {},
   "outputs": [
    {
     "data": {
      "text/plain": [
       "(tensor(3.5000, dtype=torch.float64),\n",
       " tensor([2.5000, 3.5000, 4.5000], dtype=torch.float64),\n",
       " tensor([2., 5.], dtype=torch.float64))"
      ]
     },
     "execution_count": 52,
     "metadata": {},
     "output_type": "execute_result"
    }
   ],
   "source": [
    "a = torch.tensor([[1,2,3], [4,5,6]], dtype=float)\n",
    "a.mean(), a.mean(axis=0), a.mean(axis=1)"
   ]
  },
  {
   "cell_type": "code",
   "execution_count": 53,
   "id": "06cc2928",
   "metadata": {},
   "outputs": [
    {
     "data": {
      "text/plain": [
       "(tensor(21., dtype=torch.float64),\n",
       " tensor([5., 7., 9.], dtype=torch.float64),\n",
       " tensor([ 6., 15.], dtype=torch.float64))"
      ]
     },
     "execution_count": 53,
     "metadata": {},
     "output_type": "execute_result"
    }
   ],
   "source": [
    "a.sum(), a.sum(axis=0), a.sum(axis=1)"
   ]
  },
  {
   "cell_type": "markdown",
   "id": "585a5f8f",
   "metadata": {},
   "source": [
    "### Matrix Operations\n",
    "\n",
    "The @ symbol or `torch.matmul()` can be used to multiply tensors. ``torch.dot()`` can only be used for 1D tensors (vectors). For transposing tenosrs, use ``Tensor.T`` or ``torch.t()``."
   ]
  },
  {
   "cell_type": "code",
   "execution_count": 71,
   "id": "8c3437c7",
   "metadata": {},
   "outputs": [
    {
     "data": {
      "text/plain": [
       "(tensor([[1, 2],\n",
       "         [3, 4]]),\n",
       " tensor([[1, 0],\n",
       "         [1, 0]]))"
      ]
     },
     "execution_count": 71,
     "metadata": {},
     "output_type": "execute_result"
    }
   ],
   "source": [
    "A = torch.tensor([[1,2],[3,4]])\n",
    "\n",
    "B = torch.tensor([[1,1], [0,0]])\n",
    "\n",
    "A, B"
   ]
  },
  {
   "cell_type": "code",
   "execution_count": 72,
   "id": "7a7f3c1e",
   "metadata": {},
   "outputs": [
    {
     "data": {
      "text/plain": [
       "(tensor([[1, 1],\n",
       "         [3, 3]]),\n",
       " tensor([[1, 1],\n",
       "         [3, 3]]))"
      ]
     },
     "execution_count": 72,
     "metadata": {},
     "output_type": "execute_result"
    }
   ],
   "source": [
    "C1 = A @ B\n",
    "\n",
    "C2 = torch.matmul(input = A, other= B)\n",
    "\n",
    "C1, C2"
   ]
  },
  {
   "cell_type": "code",
   "execution_count": 76,
   "id": "fc32c923",
   "metadata": {},
   "outputs": [
    {
     "data": {
      "text/plain": [
       "tensor([[1, 2],\n",
       "        [0, 0]])"
      ]
     },
     "execution_count": 76,
     "metadata": {},
     "output_type": "execute_result"
    }
   ],
   "source": [
    "# elementwise multiplication of matrices\n",
    "\n",
    "D = torch.mul(A, B)\n",
    "D"
   ]
  },
  {
   "cell_type": "markdown",
   "id": "845ed548",
   "metadata": {},
   "source": []
  }
 ],
 "metadata": {
  "kernelspec": {
   "display_name": "default",
   "language": "python",
   "name": "python3"
  },
  "language_info": {
   "codemirror_mode": {
    "name": "ipython",
    "version": 3
   },
   "file_extension": ".py",
   "mimetype": "text/x-python",
   "name": "python",
   "nbconvert_exporter": "python",
   "pygments_lexer": "ipython3",
   "version": "3.12.11"
  }
 },
 "nbformat": 4,
 "nbformat_minor": 5
}
