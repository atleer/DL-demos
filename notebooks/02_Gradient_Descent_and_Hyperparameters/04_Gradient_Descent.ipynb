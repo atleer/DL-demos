{
 "cells": [
  {
   "cell_type": "code",
   "execution_count": 1,
   "id": "77aaaa1e",
   "metadata": {},
   "outputs": [],
   "source": [
    "import torch\n",
    "from torch import nn\n",
    "\n",
    "import numpy as np\n",
    "import matplotlib.pyplot as plt\n",
    "\n",
    "from utils import *"
   ]
  },
  {
   "cell_type": "markdown",
   "id": "c9d86782",
   "metadata": {},
   "source": [
    "\n",
    "```python\n",
    "for t in range(0,T):\n",
    "    w[t+1] = w[t] - eta*Df/dw[t]\n",
    "\n",
    "# where f is the function to be minimized (loss function) and w is the weights\n",
    "```"
   ]
  },
  {
   "cell_type": "code",
   "execution_count": null,
   "id": "42e36bb8",
   "metadata": {},
   "outputs": [],
   "source": []
  },
  {
   "cell_type": "code",
   "execution_count": 122,
   "id": "82d0dd98",
   "metadata": {},
   "outputs": [
    {
     "name": "stdout",
     "output_type": "stream",
     "text": [
      "initial weight = -0.5, \n",
      "initial bias = 0.5\n",
      "for x=2 and y=7, prediction=-0.46211716532707214, and L2 Loss = 55.68319320678711\n"
     ]
    }
   ],
   "source": [
    "class SimpleGraph:\n",
    "  \"\"\"\n",
    "  Implementing Simple Computational Graph\n",
    "  \"\"\"\n",
    "\n",
    "  def __init__(self, w, b):\n",
    "    \"\"\"\n",
    "    Initializing the SimpleGraph\n",
    "\n",
    "    Args:\n",
    "      w: float\n",
    "        Initial value for weight\n",
    "      b: float\n",
    "        Initial value for bias\n",
    "\n",
    "    Returns:\n",
    "      Nothing\n",
    "    \"\"\"\n",
    "    assert isinstance(w, float)\n",
    "    assert isinstance(b, float)\n",
    "    self.w = torch.tensor([w], requires_grad=True)\n",
    "    self.b = torch.tensor([b], requires_grad=True)\n",
    "\n",
    "  def forward(self, x):\n",
    "    \"\"\"\n",
    "    Forward pass\n",
    "\n",
    "    Args:\n",
    "      x: torch.Tensor\n",
    "        1D tensor of features\n",
    "\n",
    "    Returns:\n",
    "      prediction: torch.Tensor\n",
    "        Model predictions\n",
    "    \"\"\"\n",
    "    assert isinstance(x, torch.Tensor)\n",
    "    prediction = torch.tanh(x * self.w + self.b)\n",
    "    return prediction\n",
    "\n",
    "\n",
    "def sq_loss(y_true, y_prediction):\n",
    "  \"\"\"\n",
    "  L2 loss function\n",
    "\n",
    "  Args:\n",
    "    y_true: torch.Tensor\n",
    "      1D tensor of target labels\n",
    "    y_prediction: torch.Tensor\n",
    "      1D tensor of predictions\n",
    "\n",
    "  Returns:\n",
    "    loss: torch.Tensor\n",
    "      L2-loss (squared error)\n",
    "  \"\"\"\n",
    "  assert isinstance(y_true, torch.Tensor)\n",
    "  assert isinstance(y_prediction, torch.Tensor)\n",
    "  loss = (y_true - y_prediction)**2\n",
    "  return loss\n",
    "\n",
    "\n",
    "\n",
    "feature = torch.tensor([2])  # Input tensor\n",
    "target = torch.tensor([7])  # Target tensor\n",
    "## Uncomment to run\n",
    "simple_graph = SimpleGraph(-0.5, 0.5)\n",
    "print(f\"initial weight = {simple_graph.w.item()}, \"\n",
    "      f\"\\ninitial bias = {simple_graph.b.item()}\")\n",
    "prediction = simple_graph.forward(feature)\n",
    "square_loss = sq_loss(target, prediction)\n",
    "print(f\"for x={feature.item()} and y={target.item()}, \"\n",
    "      f\"prediction={prediction.item()}, and L2 Loss = {square_loss.item()}\")"
   ]
  },
  {
   "cell_type": "code",
   "execution_count": null,
   "id": "9716559e",
   "metadata": {},
   "outputs": [],
   "source": []
  },
  {
   "cell_type": "code",
   "execution_count": 123,
   "id": "9d1d6e2c",
   "metadata": {},
   "outputs": [
    {
     "data": {
      "text/plain": [
       "tensor([1.])"
      ]
     },
     "execution_count": 123,
     "metadata": {},
     "output_type": "execute_result"
    }
   ],
   "source": [
    "a = torch.tensor([1.0], requires_grad=True)\n",
    "b = torch.tensor([-1.0], requires_grad=True)\n",
    "c = a+b\n",
    "c.retain_grad()\n",
    "c.backward()\n",
    "c.grad"
   ]
  },
  {
   "cell_type": "code",
   "execution_count": null,
   "id": "de3731a9",
   "metadata": {},
   "outputs": [],
   "source": []
  },
  {
   "cell_type": "code",
   "execution_count": 127,
   "id": "07ba1d49",
   "metadata": {},
   "outputs": [
    {
     "data": {
      "text/plain": [
       "(tensor([0.]),\n",
       " tensor([0.]),\n",
       " tensor([-0.5000], requires_grad=True),\n",
       " tensor([0.5000], requires_grad=True),\n",
       " tensor([-0.4621], grad_fn=<TanhBackward0>))"
      ]
     },
     "execution_count": 127,
     "metadata": {},
     "output_type": "execute_result"
    }
   ],
   "source": [
    "prediction = simple_graph.forward(feature)\n",
    "\n",
    "# analytical gradients\n",
    "ana_dloss_dw = -2*feature * (target - prediction) * (1-prediction**2)\n",
    "ana_dloss_db = -2 * (target - prediction) * (1 - prediction**2)\n",
    "\n",
    "square_loss.backward(retain_graph=True) # call backward to build the graph\n",
    "autograd_dloss_dw = simple_graph.w.grad\n",
    "autograd_dloss_db = simple_graph.b.grad\n",
    "\n",
    "simple_graph.w.grad.zero_()\n",
    "simple_graph.b.grad.zero_()\n",
    "\n",
    "autograd_dloss_dw, autograd_dloss_db, simple_graph.w, simple_graph.b, prediction"
   ]
  },
  {
   "cell_type": "code",
   "execution_count": null,
   "id": "8140725b",
   "metadata": {},
   "outputs": [],
   "source": []
  },
  {
   "cell_type": "markdown",
   "id": "5954faec",
   "metadata": {},
   "source": [
    "#### Training Loop in Pytorch"
   ]
  },
  {
   "cell_type": "code",
   "execution_count": 137,
   "id": "a580ae01",
   "metadata": {},
   "outputs": [
    {
     "data": {
      "image/png": "[encoded data removed]",
      "text/plain": [
       "<Figure size 800x500 with 1 Axes>"
      ]
     },
     "metadata": {},
     "output_type": "display_data"
    }
   ],
   "source": [
    "# generate dataset\n",
    "n_samples = 32\n",
    "features = torch.linspace(-1.0, 1.0, n_samples).reshape(n_samples, 1)\n",
    "noise = torch.randn(n_samples, 1) / 4\n",
    "targets = torch.sin(np.pi * features) + noise\n",
    "plt.figure(figsize=(8, 5))\n",
    "plt.scatter(features, targets, c='c')\n",
    "plt.xlabel('x (features)')\n",
    "plt.ylabel('y (targets)')\n",
    "plt.show()"
   ]
  },
  {
   "cell_type": "code",
   "execution_count": 138,
   "id": "b5246ed2",
   "metadata": {},
   "outputs": [],
   "source": [
    "class WideNet(nn.Module):\n",
    "    \n",
    "    '''def __init__(self, *args, **kwargs):\n",
    "        super().__init__(*args, **kwargs)'''\n",
    "    \n",
    "    def __init__(self):\n",
    "        super(WideNet, self).__init__() # in solution WideNet and self are not included in super. why?\n",
    "        \n",
    "        ncells = 512\n",
    "        self.layers = nn.Sequential(\n",
    "            nn.Linear(1, ncells),\n",
    "            nn.Tanh(),\n",
    "            nn.Linear(ncells,1),\n",
    "        )\n",
    "\n",
    "    def forward(self, x: torch.Tensor) -> torch.Tensor:\n",
    "        \"\"\"\n",
    "        Forward pass\n",
    "        \"\"\"\n",
    "        \n",
    "        return self.layers(x)"
   ]
  },
  {
   "cell_type": "code",
   "execution_count": 139,
   "id": "77c71c35",
   "metadata": {},
   "outputs": [
    {
     "data": {
      "text/plain": [
       "WideNet(\n",
       "  (layers): Sequential(\n",
       "    (0): Linear(in_features=1, out_features=512, bias=True)\n",
       "    (1): Tanh()\n",
       "    (2): Linear(in_features=512, out_features=1, bias=True)\n",
       "  )\n",
       ")"
      ]
     },
     "execution_count": 139,
     "metadata": {},
     "output_type": "execute_result"
    }
   ],
   "source": [
    "model = WideNet()\n",
    "model"
   ]
  },
  {
   "cell_type": "code",
   "execution_count": 141,
   "id": "26728db1",
   "metadata": {},
   "outputs": [],
   "source": [
    "# define loss function (MSE because this is regression, I think)\n",
    "loss_function = nn.MSELoss()\n",
    "\n",
    "# define optimizer - stochastic gradient descent - for model parameters and hyperparameters\n",
    "lr = 0.003\n",
    "sgd_optimizer = torch.optim.SGD(model.parameters(), lr = lr, momentum=0.9)"
   ]
  },
  {
   "cell_type": "code",
   "execution_count": 142,
   "id": "b9794af0",
   "metadata": {},
   "outputs": [],
   "source": [
    "# zero out gradients\n",
    "sgd_optimizer.zero_grad()\n",
    "\n",
    "# make prediction with current model parameters\n",
    "prediction = model(features)\n",
    "\n",
    "# calculate loss\n",
    "loss = loss_function(prediction, targets)\n",
    "\n",
    "# do backpropagation with calculated loss for current model prediction\n",
    "loss.backward()\n",
    "\n",
    "# update parameters (weights and biases) of model by going a step in direction of steepest descent in loss landscape\n",
    "sgd_optimizer.step()"
   ]
  },
  {
   "cell_type": "markdown",
   "id": "752885f7",
   "metadata": {},
   "source": [
    "#### Training Loop"
   ]
  },
  {
   "cell_type": "code",
   "execution_count": null,
   "id": "8b3c6fb9",
   "metadata": {},
   "outputs": [],
   "source": [
    "def train(model, features, labels, loss_fun, optimizer, nepochs):\n",
    "\n",
    "    losses = []\n",
    "\n",
    "    for iepoch in range(nepochs):\n",
    "\n",
    "        optimizer.zero_grad()\n",
    "\n",
    "        prediction = model.forward(features)\n",
    "\n",
    "        loss = loss_fun(prediction, labels)\n",
    "\n",
    "        losses.append(loss.item())\n",
    "\n",
    "        if iepoch % 20 == 0:\n",
    "            print(f'Epoch {iepoch}, loss {loss.item()}')\n",
    "\n",
    "        loss.backward()\n",
    "\n",
    "        optimizer.step()\n",
    "\n",
    "    return losses"
   ]
  },
  {
   "cell_type": "code",
   "execution_count": 147,
   "id": "6460a580",
   "metadata": {},
   "outputs": [
    {
     "name": "stdout",
     "output_type": "stream",
     "text": [
      "Epoch 0, loss 0.5157279968261719\n",
      "Epoch 20, loss 0.2792746126651764\n",
      "Epoch 40, loss 0.2280653864145279\n",
      "Epoch 60, loss 0.2171352505683899\n",
      "Epoch 80, loss 0.20981833338737488\n"
     ]
    }
   ],
   "source": [
    "n_epochs = 100\n",
    "\n",
    "losses = train(model=model, features=features, labels=targets, loss_fun=loss_function, optimizer=sgd_optimizer, nepochs=n_epochs)"
   ]
  },
  {
   "cell_type": "markdown",
   "id": "99052d3d",
   "metadata": {},
   "source": [
    "#### Derivation by finite differences vs analytical solution"
   ]
  },
  {
   "cell_type": "code",
   "execution_count": 32,
   "id": "593533e9",
   "metadata": {},
   "outputs": [
    {
     "data": {
      "text/plain": [
       "'xx, yy = np.meshgrid(x, y, sparse=True)\\nzz = fun_z(xx, yy)\\nxg, yg = np.arange(-2.5, 2.6, 0.5), np.arange(-2.5, 2.6, 0.5)\\nxxg, yyg = np.meshgrid(xg, yg, sparse=True)\\nzxg, zyg = fun_dz(xxg, yyg)'"
      ]
     },
     "execution_count": 32,
     "metadata": {},
     "output_type": "execute_result"
    }
   ],
   "source": [
    "def fun_z(x, y):\n",
    "  \"\"\"\n",
    "  Implements function sin(x^2 + y^2)\n",
    "\n",
    "  Args:\n",
    "    x: (float, np.ndarray)\n",
    "      Variable x\n",
    "    y: (float, np.ndarray)\n",
    "      Variable y\n",
    "\n",
    "  Returns:\n",
    "    z: (float, np.ndarray)\n",
    "      sin(x^2 + y^2)\n",
    "  \"\"\"\n",
    "  z = np.sin(x**2 + y**2)\n",
    "  return z\n",
    "\n",
    "\n",
    "def fun_dz_num(x, y):\n",
    "  \"\"\"\n",
    "  Implements function sin(x^2 + y^2)\n",
    "\n",
    "  Args:\n",
    "    x: (float, np.ndarray)\n",
    "      Variable x\n",
    "    y: (float, np.ndarray)\n",
    "      Variable y\n",
    "\n",
    "  Returns:\n",
    "    Tuple of gradient vector for sin(x^2 + y^2)\n",
    "  \"\"\"\n",
    "  #################################################\n",
    "  ## Implement the function which returns gradient vector\n",
    "  ## Complete the partial derivatives dz_dx and dz_dy\n",
    "  # Complete the function and remove or comment the line below\n",
    "  #raise NotImplementedError(\"Gradient function `fun_dz`\")\n",
    "  #################################################\n",
    "  dz_dx = (fun_z(x[1:], y[1:])-fun_z(x[:-1], y[:-1]))/np.diff(x)\n",
    "  dz_dy = (fun_z(x[1:], y[1:])-fun_z(x[:-1], y[:-1]))/np.diff(y)\n",
    "  return (dz_dx, dz_dy)\n",
    "\n",
    "\n",
    "def fun_dz_anal(x, y):\n",
    "  \"\"\"\n",
    "  Implements function sin(x^2 + y^2)\n",
    "\n",
    "  Args:\n",
    "    x: (float, np.ndarray)\n",
    "      Variable x\n",
    "    y: (float, np.ndarray)\n",
    "      Variable y\n",
    "\n",
    "  Returns:\n",
    "    Tuple of gradient vector for sin(x^2 + y^2)\n",
    "  \"\"\"\n",
    "  dz_dx = 2 * x * np.cos(x**2 + y**2)\n",
    "  dz_dy = 2 * y * np.cos(x**2 + y**2)\n",
    "  return (dz_dx, dz_dy)\n",
    "\n",
    "\n",
    "## Uncomment to run\n",
    "#ex1_plot(fun_z, fun_dz)\n",
    "x, y = np.arange(-3, 3.01, 0.02), np.arange(-3, 3.01, 0.02)\n",
    "\n",
    "\n",
    "'''xx, yy = np.meshgrid(x, y, sparse=True)\n",
    "zz = fun_z(xx, yy)\n",
    "xg, yg = np.arange(-2.5, 2.6, 0.5), np.arange(-2.5, 2.6, 0.5)\n",
    "xxg, yyg = np.meshgrid(xg, yg, sparse=True)\n",
    "zxg, zyg = fun_dz(xxg, yyg)'''\n",
    "#fun_dz()"
   ]
  },
  {
   "cell_type": "code",
   "execution_count": 34,
   "id": "7c5e01cd",
   "metadata": {},
   "outputs": [
    {
     "data": {
      "text/plain": [
       "[<matplotlib.lines.Line2D at 0x187badbddc0>]"
      ]
     },
     "execution_count": 34,
     "metadata": {},
     "output_type": "execute_result"
    },
    {
     "data": {
      "image/png": "[encoded data removed]",
      "text/plain": [
       "<Figure size 640x480 with 1 Axes>"
      ]
     },
     "metadata": {},
     "output_type": "display_data"
    }
   ],
   "source": [
    "plt.plot(fun_dz_anal(x, y)[0][:-1]/fun_dz_anal(x,y)[0].max())\n",
    "plt.plot(fun_dz_num(x,y)[0]/fun_dz_num(x,y)[0].max())\n",
    "#plt.plot(fun_z(x,y))"
   ]
  },
  {
   "cell_type": "code",
   "execution_count": null,
   "id": "7b5a79cf",
   "metadata": {},
   "outputs": [],
   "source": []
  }
 ],
 "metadata": {
  "kernelspec": {
   "display_name": "default",
   "language": "python",
   "name": "python3"
  },
  "language_info": {
   "codemirror_mode": {
    "name": "ipython",
    "version": 3
   },
   "file_extension": ".py",
   "mimetype": "text/x-python",
   "name": "python",
   "nbconvert_exporter": "python",
   "pygments_lexer": "ipython3",
   "version": "3.12.11"
  }
 },
 "nbformat": 4,
 "nbformat_minor": 5
}
