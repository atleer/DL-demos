{
 "cells": [
  {
   "cell_type": "code",
   "execution_count": 6,
   "id": "fdb461a4",
   "metadata": {},
   "outputs": [],
   "source": [
    "import copy\n",
    "\n",
    "import ipywidgets as widgets\n",
    "import matplotlib.pyplot as plt\n",
    "import numpy as np\n",
    "\n",
    "import time\n",
    "import torch\n",
    "import torchvision\n",
    "import torchvision.datasets as datasets\n",
    "import torch.nn.functional as F\n",
    "import torch.nn as nn\n",
    "import torch.optim as optim\n",
    "from tqdm.auto import tqdm"
   ]
  },
  {
   "cell_type": "code",
   "execution_count": 2,
   "id": "c35b1d69",
   "metadata": {},
   "outputs": [],
   "source": [
    "# @title Helper functions\n",
    "def print_params(model):\n",
    "  \"\"\"\n",
    "  Lists the name and current value of the model's\n",
    "  named parameters\n",
    "\n",
    "  Args:\n",
    "    model: an nn.Module inherited model\n",
    "      Represents the ML/DL model\n",
    "\n",
    "  Returns:\n",
    "    Nothing\n",
    "  \"\"\"\n",
    "  for name, param in model.named_parameters():\n",
    "    if param.requires_grad:\n",
    "      print(name, param.data)# @title Helper functions"
   ]
  },
  {
   "cell_type": "markdown",
   "id": "707d33a0",
   "metadata": {},
   "source": [
    "#### Set Seed"
   ]
  },
  {
   "cell_type": "code",
   "execution_count": 3,
   "id": "f3a86426",
   "metadata": {},
   "outputs": [],
   "source": [
    "# @title Set random seed\n",
    "\n",
    "# @markdown Executing `set_seed(seed=seed)` you are setting the seed\n",
    "\n",
    "# for DL its critical to set the random seed so that students can have a\n",
    "# baseline to compare their results to expected results.\n",
    "# Read more here: https://pytorch.org/docs/stable/notes/randomness.html\n",
    "\n",
    "# Call the `set_seed` function in the exercises to ensure reproducibility.\n",
    "import random\n",
    "import torch\n",
    "\n",
    "def set_seed(seed=None, seed_torch=True):\n",
    "  \"\"\"\n",
    "  Handles variability by controlling sources of randomness\n",
    "  through set seed values\n",
    "\n",
    "  Args:\n",
    "    seed: Integer\n",
    "      Set the seed value to given integer.\n",
    "      If no seed, set seed value to random integer in the range 2^32\n",
    "    seed_torch: Bool\n",
    "      Seeds the random number generator for all devices to\n",
    "      offer some guarantees on reproducibility\n",
    "\n",
    "  Returns:\n",
    "    Nothing\n",
    "  \"\"\"\n",
    "  if seed is None:\n",
    "    seed = np.random.choice(2 ** 32)\n",
    "  random.seed(seed)\n",
    "  np.random.seed(seed)\n",
    "  if seed_torch:\n",
    "    torch.manual_seed(seed)\n",
    "    torch.cuda.manual_seed_all(seed)\n",
    "    torch.cuda.manual_seed(seed)\n",
    "    torch.backends.cudnn.benchmark = False\n",
    "    torch.backends.cudnn.deterministic = True\n",
    "  print(f'Random seed {seed} has been set.')\n",
    "\n",
    "\n",
    "# In case that `DataLoader` is used\n",
    "def seed_worker(worker_id):\n",
    "  \"\"\"\n",
    "  DataLoader will reseed workers following randomness in\n",
    "  multi-process data loading algorithm.\n",
    "\n",
    "  Args:\n",
    "    worker_id: integer\n",
    "      ID of subprocess to seed. 0 means that\n",
    "      the data will be loaded in the main process\n",
    "      Refer: https://pytorch.org/docs/stable/data.html#data-loading-randomness for more details\n",
    "\n",
    "  Returns:\n",
    "    Nothing\n",
    "  \"\"\"\n",
    "  worker_seed = torch.initial_seed() % 2**32\n",
    "  np.random.seed(worker_seed)\n",
    "  random.seed(worker_seed)"
   ]
  },
  {
   "cell_type": "code",
   "execution_count": 5,
   "id": "ac958390",
   "metadata": {},
   "outputs": [
    {
     "name": "stdout",
     "output_type": "stream",
     "text": [
      "Random seed 2021 has been set.\n",
      "WARNING: For this notebook to perform best, if possible, in the menu under `Runtime` -> `Change runtime type.`  select `GPU` \n"
     ]
    }
   ],
   "source": [
    "# @title Set device (GPU or CPU). Execute `set_device()`\n",
    "# especially if torch modules are used.\n",
    "\n",
    "# inform the user if the notebook uses GPU or CPU.\n",
    "\n",
    "def set_device():\n",
    "  \"\"\"\n",
    "  Set the device. CUDA if available, CPU otherwise\n",
    "\n",
    "  Args:\n",
    "    None\n",
    "\n",
    "  Returns:\n",
    "    Nothing\n",
    "  \"\"\"\n",
    "  device = \"cuda\" if torch.cuda.is_available() else \"cpu\"\n",
    "  if device != \"cuda\":\n",
    "    print(\"WARNING: For this notebook to perform best, \"\n",
    "        \"if possible, in the menu under `Runtime` -> \"\n",
    "        \"`Change runtime type.`  select `GPU` \")\n",
    "  else:\n",
    "    print(\"GPU is enabled in this notebook.\")\n",
    "\n",
    "  return device\n",
    "SEED = 2021\n",
    "set_seed(seed=SEED)\n",
    "DEVICE = set_device()"
   ]
  },
  {
   "cell_type": "markdown",
   "id": "d147b8b6",
   "metadata": {},
   "source": [
    "#### Download and transform data"
   ]
  },
  {
   "cell_type": "code",
   "execution_count": 11,
   "id": "2cdc170c",
   "metadata": {},
   "outputs": [
    {
     "name": "stderr",
     "output_type": "stream",
     "text": [
      "100%|██████████| 9.91M/9.91M [00:05<00:00, 1.74MB/s]\n",
      "100%|██████████| 28.9k/28.9k [00:00<00:00, 334kB/s]\n",
      "100%|██████████| 1.65M/1.65M [00:01<00:00, 1.45MB/s]\n",
      "100%|██████████| 4.54k/4.54k [00:00<00:00, 7.85MB/s]\n"
     ]
    }
   ],
   "source": [
    "train_set = datasets.MNIST(\n",
    "    root='data/raw',\n",
    "    train=True,\n",
    "    download=True,\n",
    "    transform=torchvision.transforms.ToTensor(),\n",
    ")\n",
    "test_set = datasets.MNIST(\n",
    "    root=\"data/raw\",\n",
    "    train=True,\n",
    "    download=False,\n",
    "    transform=torchvision.transforms.ToTensor(),\n",
    ")\n",
    "\n",
    "# standardize data\n",
    "mean = train_set.data.float().mean()\n",
    "std = train_set.data.float().std()\n",
    "\n",
    "manual_normalization = True\n",
    "if manual_normalization:\n",
    "    # manually\n",
    "    train_set.data = (train_set.data - mean)/std\n",
    "    test_set.data = (train_set.data - mean)/std\n",
    "else:\n",
    "    train_set = datasets.MNIST(\n",
    "        root=\"data/raw\",\n",
    "        train=True,\n",
    "        download=True,\n",
    "        transform=torchvision.transforms.Compose([\n",
    "            torchvision.transforms.ToTensor(),\n",
    "            torchvision.transforms.Normalize(\n",
    "                (0.1307, 0.1307, 0.1307), (0.3081, 0.3081, 0.3081)\n",
    "            )\n",
    "        ])\n",
    "    )\n",
    "\n",
    "    test_set = datasets.MNIST(\n",
    "        root=\"data/raw\",\n",
    "        train=False,\n",
    "        download=True,\n",
    "        transform=torchvision.transforms.Compose([\n",
    "            torchvision.transforms.ToTensor(),\n",
    "            torchvision.transforms.Normalize(\n",
    "                (0.1307, 0.1307, 0.1307), (0.3081, 0.3081, 0.3081)\n",
    "            )\n",
    "        ])\n",
    "    )\n",
    "\n"
   ]
  },
  {
   "cell_type": "code",
   "execution_count": 12,
   "id": "6fa869eb",
   "metadata": {},
   "outputs": [],
   "source": [
    "# sample random subset of 500 indices\n",
    "subset_index = np.random.choice(len(train_set.data), 500)\n",
    "\n",
    "# targets - y - are the labels\n",
    "X, y = train_set.data[subset_index,:], train_set.targets[subset_index]"
   ]
  },
  {
   "cell_type": "code",
   "execution_count": 17,
   "id": "1789ab5e",
   "metadata": {},
   "outputs": [
    {
     "data": {
      "text/plain": [
       "<matplotlib.image.AxesImage at 0x2baf1ca74d0>"
      ]
     },
     "execution_count": 17,
     "metadata": {},
     "output_type": "execute_result"
    },
    {
     "data": {
      "image/png": "[encoded data removed]",
      "text/plain": [
       "<Figure size 640x480 with 1 Axes>"
      ]
     },
     "metadata": {},
     "output_type": "display_data"
    }
   ],
   "source": [
    "plt.imshow(X[0])"
   ]
  },
  {
   "cell_type": "markdown",
   "id": "644cae30",
   "metadata": {},
   "source": [
    "#### Create Multi-Layer Perceptron Model"
   ]
  },
  {
   "cell_type": "code",
   "execution_count": 43,
   "id": "47fc4fc7",
   "metadata": {},
   "outputs": [],
   "source": [
    "class MLP(nn.Module):\n",
    "\n",
    "    def __init__(self, in_dim = 784, out_dim = 10, hidden_dims = [], use_bias = True):\n",
    "        \"\"\"\n",
    "        Constructs a Multilayer Perceptron\n",
    "        Args:\n",
    "          in_dim: dimensionality of input data\n",
    "          out_dim: number of classes\n",
    "          hidden_dims: contains dimensions of hidden layers\n",
    "\n",
    "        Returns:\n",
    "          Nothing\n",
    "\n",
    "        \"\"\"\n",
    "        super(MLP, self).__init__() # makes MLP class inherit attributes from nn.Module\n",
    "\n",
    "        self.in_dim = in_dim\n",
    "        self.out_dim = out_dim\n",
    "\n",
    "        if len(hidden_dims) == 0:\n",
    "            layers = [nn.Linear(in_dim, out_dim, bias = use_bias)]\n",
    "        else:\n",
    "            layers = [nn.Linear(in_dim, hidden_dims[0], bias = use_bias), nn.ReLU()]\n",
    "\n",
    "            for i, hidden_dim in enumerate(hidden_dims[:-1]):\n",
    "                layers += [nn.Linear(hidden_dim, hidden_dim[i+1], bias = use_bias), nn.ReLU()]\n",
    "                \n",
    "        self.main = nn.Sequential(*layers)\n",
    "\n",
    "    def forward(self, x):\n",
    "        # flatten images into a vector\n",
    "        transformed_x = x.view(-1, self.in_dim)\n",
    "        hidden_output = self.main(transformed_x)\n",
    "        output = F.log_softmax(hidden_output, dim=1)\n",
    "        return output\n"
   ]
  },
  {
   "cell_type": "code",
   "execution_count": null,
   "id": "5ca28a0b",
   "metadata": {},
   "outputs": [
    {
     "data": {
      "text/plain": [
       "MLP(\n",
       "  (main): Sequential(\n",
       "    (0): Linear(in_features=784, out_features=10, bias=True)\n",
       "  )\n",
       ")"
      ]
     },
     "execution_count": 44,
     "metadata": {},
     "output_type": "execute_result"
    }
   ],
   "source": [
    "model = MLP()\n",
    "\n",
    "# negative loss likelihood - cross-entropy loss - an appropriate loss function for classification problems\n",
    "# Why again?\n",
    "loss_fn = F.nll_loss\n",
    "\n",
    "# this is an alternative that produces the same results\n",
    "#loss_fn = nn.CrossEntropyLoss()\n",
    "\n",
    "model"
   ]
  },
  {
   "cell_type": "code",
   "execution_count": 45,
   "id": "2a28d9a8",
   "metadata": {},
   "outputs": [],
   "source": [
    "def train(model, X: torch.Tensor, y: torch.Tensor, epochs = 200):\n",
    "\n",
    "    loss_fn = F.nll_loss\n",
    "    #loss_fn = nn.CrossEntropyLoss()\n",
    "\n",
    "\n",
    "    print('Init Loss: ', loss_fn(model(X), y).item())\n",
    "\n",
    "    learning_rate = 7e-4\n",
    "    optimizer = optim.Adam(model.parameters(), lr = learning_rate)\n",
    "\n",
    "    for iepoch in range(epochs):\n",
    "        loss = loss_fn(model(X), y)\n",
    "        optimizer.zero_grad()\n",
    "        loss.backward()\n",
    "        optimizer.step()\n",
    "\n",
    "    print('End Loss: ', loss_fn(model(X), y).item())"
   ]
  },
  {
   "cell_type": "code",
   "execution_count": 46,
   "id": "4cd9ab6d",
   "metadata": {},
   "outputs": [
    {
     "name": "stdout",
     "output_type": "stream",
     "text": [
      "Init Loss:  2.4030067920684814\n",
      "End Loss:  0.10310503840446472\n"
     ]
    }
   ],
   "source": [
    "train(model, X=X, y=y)"
   ]
  },
  {
   "cell_type": "code",
   "execution_count": null,
   "id": "b5365783",
   "metadata": {},
   "outputs": [
    {
     "data": {
      "image/png": "[encoded data removed]",
      "text/plain": [
       "<Figure size 1500x400 with 10 Axes>"
      ]
     },
     "metadata": {},
     "output_type": "display_data"
    }
   ],
   "source": [
    "# show class filters of trained model\n",
    "W = model.main[0].weight.data.numpy()\n",
    "\n",
    "fig, axs = plt.subplots(1, 10, figsize=(15, 4))\n",
    "for class_id in range(10):\n",
    "  axs[class_id].imshow(W[class_id, :].reshape(28, 28), cmap='gray_r')\n",
    "  axs[class_id].axis('off')\n",
    "  axs[class_id].set_title('Class ' + str(class_id) )\n",
    "\n",
    "plt.show()"
   ]
  },
  {
   "cell_type": "code",
   "execution_count": 36,
   "id": "426b5f51",
   "metadata": {},
   "outputs": [
    {
     "data": {
      "text/plain": [
       "(10, 784)"
      ]
     },
     "execution_count": 36,
     "metadata": {},
     "output_type": "execute_result"
    }
   ],
   "source": [
    "W.shape"
   ]
  },
  {
   "cell_type": "markdown",
   "id": "7eb5b942",
   "metadata": {},
   "source": [
    "#### Implement Gradient Descent Manually"
   ]
  },
  {
   "cell_type": "code",
   "execution_count": null,
   "id": "ee2189d8",
   "metadata": {},
   "outputs": [],
   "source": [
    "def zero_grad(params):\n",
    "    \"\"\"\n",
    "    This function does the same as optimizer.zero_grad() in torch library\n",
    "    \"\"\"\n",
    "\n",
    "    for param in params:\n",
    "        if not(param.grad is None): # there is a gradient value\n",
    "            param.grad.data.zero()\n",
    "\n",
    "def random_update(model, noise_scale, normalized = False):\n",
    "    \"\"\"\n",
    "    Performs random update of parameters. Meant for comparison to gradient descent\n",
    "\n",
    "    Args:\n",
    "      model: nn.Module derived class\n",
    "      noise_scale: specifies magnitude of random weight\n",
    "      normalized: indicates if the parameter has been normalized or not\n",
    "\n",
    "    Returns:\n",
    "        Nothing\n",
    "    \"\"\"\n",
    "\n",
    "    for par in model.parameters():\n",
    "        noise = torch.randn_like(par)\n",
    "        if normalized:\n",
    "            noise /= torch.norm(noise)\n",
    "        par.data += noise_scale*noise"
   ]
  },
  {
   "cell_type": "code",
   "execution_count": 108,
   "id": "c376edc3",
   "metadata": {},
   "outputs": [
    {
     "name": "stdout",
     "output_type": "stream",
     "text": [
      "Random seed 2021 has been set.\n",
      "MLP(\n",
      "  (main): Sequential(\n",
      "    (0): Linear(in_features=784, out_features=10, bias=True)\n",
      "  )\n",
      ")\n",
      "main.0.weight tensor([[-0.0264,  0.0010,  0.0173,  ...,  0.0297,  0.0278, -0.0221],\n",
      "        [-0.0040, -0.0295, -0.0086,  ..., -0.0070,  0.0254, -0.0233],\n",
      "        [ 0.0240, -0.0231,  0.0342,  ...,  0.0124,  0.0270, -0.0180],\n",
      "        ...,\n",
      "        [-0.0005,  0.0157,  0.0111,  ...,  0.0144, -0.0301, -0.0144],\n",
      "        [ 0.0181,  0.0303,  0.0255,  ..., -0.0110, -0.0175,  0.0205],\n",
      "        [ 0.0208, -0.0353, -0.0183,  ..., -0.0271,  0.0099,  0.0003]])\n",
      "main.0.bias tensor([-0.0290, -0.0033,  0.0100, -0.0320,  0.0022,  0.0221,  0.0307,  0.0243,\n",
      "         0.0159, -0.0064])\n"
     ]
    }
   ],
   "source": [
    "# implement gradient descent\n",
    "\n",
    "def gradient_update(loss, params, learning_rate = 1E-3):\n",
    "\n",
    "    zero_grad(params)\n",
    "\n",
    "    loss.backward()\n",
    "\n",
    "    with torch.no_grad():\n",
    "        for par in params:\n",
    "\n",
    "            par.data -= learning_rate*par.grad.data\n",
    "\n",
    "set_seed(seed=SEED)\n",
    "model = MLP()\n",
    "print(model)\n",
    "print_params(model)\n",
    "\n",
    "params_before_training = dict()\n",
    "\n",
    "for name, param in model.named_parameters():\n",
    "    if param.requires_grad:\n",
    "      params_before_training[name] = param.data.detach().clone()\n",
    "      \n",
    "loss_fn = nn.CrossEntropyLoss()\n",
    "loss = loss_fn(model(X), y)"
   ]
  },
  {
   "cell_type": "code",
   "execution_count": null,
   "id": "7c90bf30",
   "metadata": {},
   "outputs": [],
   "source": []
  },
  {
   "cell_type": "code",
   "execution_count": 109,
   "id": "d8ad039d",
   "metadata": {},
   "outputs": [
    {
     "name": "stdout",
     "output_type": "stream",
     "text": [
      "main.0.weight tensor([[-0.0263,  0.0010,  0.0174,  ...,  0.0298,  0.0278, -0.0220],\n",
      "        [-0.0047, -0.0302, -0.0093,  ..., -0.0077,  0.0248, -0.0240],\n",
      "        [ 0.0234, -0.0237,  0.0335,  ...,  0.0117,  0.0263, -0.0187],\n",
      "        ...,\n",
      "        [-0.0006,  0.0156,  0.0110,  ...,  0.0143, -0.0302, -0.0145],\n",
      "        [ 0.0164,  0.0286,  0.0238,  ..., -0.0127, -0.0191,  0.0188],\n",
      "        [ 0.0206, -0.0354, -0.0184,  ..., -0.0272,  0.0098,  0.0002]])\n",
      "main.0.bias tensor([-0.0292, -0.0018,  0.0115, -0.0370,  0.0054,  0.0155,  0.0317,  0.0246,\n",
      "         0.0198, -0.0061])\n"
     ]
    }
   ],
   "source": [
    "gradient_update(loss=loss, params=list(model.parameters()), learning_rate=1e-1)\n",
    "print_params(model=model)"
   ]
  },
  {
   "cell_type": "code",
   "execution_count": 110,
   "id": "14872a88",
   "metadata": {},
   "outputs": [],
   "source": [
    "params_after_training = dict()\n",
    "\n",
    "for name, param in model.named_parameters():\n",
    "    if param.requires_grad:\n",
    "      params_after_training[name] = param.data"
   ]
  },
  {
   "cell_type": "code",
   "execution_count": 111,
   "id": "fd497c6c",
   "metadata": {},
   "outputs": [
    {
     "data": {
      "text/plain": [
       "tensor([[-0.0263,  0.0010,  0.0174,  ...,  0.0298,  0.0278, -0.0220],\n",
       "        [-0.0047, -0.0302, -0.0093,  ..., -0.0077,  0.0248, -0.0240],\n",
       "        [ 0.0234, -0.0237,  0.0335,  ...,  0.0117,  0.0263, -0.0187],\n",
       "        ...,\n",
       "        [-0.0006,  0.0156,  0.0110,  ...,  0.0143, -0.0302, -0.0145],\n",
       "        [ 0.0164,  0.0286,  0.0238,  ..., -0.0127, -0.0191,  0.0188],\n",
       "        [ 0.0206, -0.0354, -0.0184,  ..., -0.0272,  0.0098,  0.0002]])"
      ]
     },
     "execution_count": 111,
     "metadata": {},
     "output_type": "execute_result"
    }
   ],
   "source": [
    "params_after_training['main.0.weight']"
   ]
  },
  {
   "cell_type": "code",
   "execution_count": 112,
   "id": "2251864d",
   "metadata": {},
   "outputs": [
    {
     "data": {
      "text/plain": [
       "tensor([[-6.9546e-05, -6.9545e-05, -6.9546e-05,  ..., -6.9546e-05,\n",
       "         -6.9546e-05, -6.9546e-05],\n",
       "        [ 6.6682e-04,  6.6682e-04,  6.6682e-04,  ...,  6.6682e-04,\n",
       "          6.6682e-04,  6.6682e-04],\n",
       "        [ 6.5921e-04,  6.5921e-04,  6.5921e-04,  ...,  6.5921e-04,\n",
       "          6.5921e-04,  6.5921e-04],\n",
       "        ...,\n",
       "        [ 1.0257e-04,  1.0257e-04,  1.0257e-04,  ...,  1.0257e-04,\n",
       "          1.0257e-04,  1.0257e-04],\n",
       "        [ 1.6603e-03,  1.6603e-03,  1.6603e-03,  ...,  1.6603e-03,\n",
       "          1.6603e-03,  1.6603e-03],\n",
       "        [ 1.3766e-04,  1.3766e-04,  1.3766e-04,  ...,  1.3766e-04,\n",
       "          1.3766e-04,  1.3766e-04]])"
      ]
     },
     "execution_count": 112,
     "metadata": {},
     "output_type": "execute_result"
    }
   ],
   "source": [
    "params_before_training['main.0.weight'] - params_after_training['main.0.weight']"
   ]
  },
  {
   "cell_type": "markdown",
   "id": "feeed39f",
   "metadata": {},
   "source": [
    "### Adaptive Gradient Descent\n",
    "\n",
    "#### Standard gradient descent.\n",
    "$$\n",
    "[w_{t+1}] = [w_{t}]_{i} - \\eta [\\nabla J(w)]_{i}\n",
    "$$\n",
    "\n",
    "for parameter i at time step (epoch) t, where J is cost function to be minimized.\n",
    "\n",
    "Written differently (the sum of deviations between targets - true data - and the model estimates is written out explicitly):\n",
    "\n",
    "$$\n",
    "[w_{t+1}] = [w_{t}]_{i} - \\eta \\frac{1}{N}\\sum_{j}^{N}\\nabla l(y_{j}, f_{w}(x_{i}))\n",
    "$$\n",
    "\n",
    "#### Stochastic gradient descent\n",
    "Divide data into batches compute gradient for each seperately:\n",
    "\n",
    "$$\n",
    "[w_{t+1}] = [w_{t}]_{i} - \\eta \\frac{1}{|B_{t}|}\\sum_{j}^{B_{t}}\\nabla l(y_{j}, f_{w}(x_{i}))\n",
    "$$\n",
    "\n",
    "The subset (batch) B_{t} is different at each training step (epoch) t.\n",
    "\n",
    "#### Poor Conditioning\n",
    "\n",
    "When the loss landscape is steep in some directions and flat in others. A big learning rate gives you problems in the steep parts. A small learning rate is too slow for the flat parts.\n",
    "\n",
    "#### Momentum\n",
    "\n",
    "$$\n",
    "[w_{t+1}] = [w_{t}]_{i} - \\eta [\\nabla J(w)]_{i} + \\beta ([w_{t}]_{i} - [w_{t-1}]_{i})\n",
    "$$\n",
    "\n",
    "Difference between weights at previous time step included. This will dampen oscillation. If the difference between succesive w's is small (flat descent), bigger steps will be taken because they cancel other out. If the difference is big because the descent is steep, this extra term will shrink the step size and lessen the oscillation.\n",
    "\n",
    "### Adaptive Methods\n",
    "\n",
    "#### Adagrad\n",
    "\n",
    "Idea: individual learning rates for different weights or layers. Adapts learning rate for each parameter.\n",
    "\n",
    "$$\n",
    "[w_{t+1}] = [w_{t}]_{i} - \\frac{\\eta}{\\sqrt{v_{t+1}+\\epsilon}} [\\nabla J(w)]_{i}\n",
    "$$\n",
    "\n",
    "where\n",
    "\n",
    "$$\n",
    "v_{t+1} = \\sum_{s}^{t} \\nabla [J(w_{s})]^{2}_{i}\n",
    "$$\n",
    "\n",
    "A running sum of (squared) gradients in the denominator that the learning rate is divided by. You take all the previous gradients into account. Leads to a decay in learning rate as we go along. Works well on convex objectives.\n",
    "\n",
    "#### RMS prop\n",
    "\n",
    "Variant of Adagrad where we use a moving average instead of running sum. Will forget past gradients, so that can adapt to newer changes in landscape. Useful for non-convex objectives.\n",
    "\n",
    "$$\n",
    "[w_{t+1}] = [w_{t}]_{i} - \\frac{\\eta}{\\sqrt{v_{t+1}+\\epsilon}} [\\nabla J(w)]_{i}\n",
    "$$\n",
    "\n",
    "where\n",
    "\n",
    "$$\n",
    "v_{t+1} = \\alpha [v_{t}]_{i} + (1-\\alpha) \\nabla [J(w_{s})]^{2}_{i}\n",
    "$$\n",
    "\n",
    "#### ADAM\n",
    "\n",
    "Adaptive momentum. RMS prop + momentum (+ couple more tricks). Most popular adaptive method in deep learning.\n",
    "\n",
    "\n",
    "\n",
    "#### General\n",
    "\n",
    "General advantage of adaptive methods: Take past values of functions gradient into account. Good when we look for **global minimum** rather than just local minimum.\n",
    "\n",
    "\n"
   ]
  },
  {
   "cell_type": "code",
   "execution_count": null,
   "id": "7f12c6ca",
   "metadata": {},
   "outputs": [],
   "source": []
  }
 ],
 "metadata": {
  "kernelspec": {
   "display_name": "default",
   "language": "python",
   "name": "python3"
  },
  "language_info": {
   "codemirror_mode": {
    "name": "ipython",
    "version": 3
   },
   "file_extension": ".py",
   "mimetype": "text/x-python",
   "name": "python",
   "nbconvert_exporter": "python",
   "pygments_lexer": "ipython3",
   "version": "3.12.11"
  }
 },
 "nbformat": 4,
 "nbformat_minor": 5
}
